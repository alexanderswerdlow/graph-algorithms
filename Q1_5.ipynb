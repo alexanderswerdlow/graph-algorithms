{
 "cells": [
  {
   "cell_type": "code",
   "execution_count": 1,
   "id": "3f7465d7-acd6-445b-b113-dd466cca8824",
   "metadata": {},
   "outputs": [
    {
     "name": "stderr",
     "output_type": "stream",
     "text": [
      "\n",
      "Attaching package: ‘igraph’\n",
      "\n",
      "\n",
      "The following objects are masked from ‘package:stats’:\n",
      "\n",
      "    decompose, spectrum\n",
      "\n",
      "\n",
      "The following object is masked from ‘package:base’:\n",
      "\n",
      "    union\n",
      "\n",
      "\n"
     ]
    }
   ],
   "source": [
    "library(igraph)"
   ]
  },
  {
   "cell_type": "code",
   "execution_count": 2,
   "id": "d2a8287b-4ddd-4a9f-b812-a605e55d4c2c",
   "metadata": {},
   "outputs": [],
   "source": [
    "g = read.graph(\"weights_daily.txt\", format=\"ncol\")\n",
    "deg = degree(g)\n",
    "jpeg(\"Q2.jpg\", width=6.8, height=6.8, units='in',res=300)\n",
    "hist(edge.attributes(g)[['weight']], xlab=\"weights\", main=\"Histogram\")"
   ]
  },
  {
   "cell_type": "code",
   "execution_count": 3,
   "id": "92d4ef49-13f2-4fd8-afdc-d12302215b2a",
   "metadata": {},
   "outputs": [],
   "source": [
    "library(\"data.table\")\n",
    "sector_names = fread(\"finance_data/Name_sector.csv\", header = TRUE)\n",
    "sectors = unique(sector_names$Sector)\n",
    "colors = rainbow(n = length(sectors))\n",
    "for (i in 1:length(V(g))){\n",
    "  sector_ = sector_names$Sector[which(V(g)[i]$name == sector_names$Symbol)]\n",
    "  V(g)[i]$sector <- sector_\n",
    "  V(g)[i]$color <- colors[which(sector_ == sectors)]\n",
    "}\n",
    "\n",
    "\n",
    "mst_ = mst(g)\n",
    "jpeg(\"Q3.jpg\", width=6.8, height=6.8, units='in',res=300)\n",
    "plot(mst_ ,vertex.size=4.5, vertex.label=NA, main=\"MST for Daily Data\")"
   ]
  },
  {
   "cell_type": "code",
   "execution_count": 4,
   "id": "b168bdb4-02a1-43c9-b014-c21c9bc027f7",
   "metadata": {},
   "outputs": [],
   "source": [
    "write_graph(mst_, \"edges.txt\", \"ncol\")"
   ]
  },
  {
   "cell_type": "code",
   "execution_count": 5,
   "id": "446880df-c3b6-45f9-a9f1-7c3514567b49",
   "metadata": {},
   "outputs": [
    {
     "name": "stdout",
     "output_type": "stream",
     "text": [
      "[1] 0.8289301\n",
      "[1] 0.1141881\n"
     ]
    }
   ],
   "source": [
    "get_alpha_vals <- function() {\n",
    "   sector_lens = c()\n",
    "    for (sec in sectors){\n",
    "      sector_lens = c(sector_lens, length(V(g)[which(V(g)$sector == sec)]))\n",
    "    }\n",
    "\n",
    "    s_1 = c()\n",
    "    s_2 = c()\n",
    "\n",
    "    for(v in V(mst_)){\n",
    "        neighbor = neighbors(mst_, v)\n",
    "\n",
    "        Q_i = 0\n",
    "        cur_sec = V(g)[v]$sector\n",
    "        for(i in neighbor){\n",
    "            if(V(g)[i]$sector == cur_sec)\n",
    "                Q_i = Q_i + 1\n",
    "        }\n",
    "\n",
    "        s_1[v] = Q_i / length(neighbor)\n",
    "        s_2[v] = sector_lens[which(sectors==cur_sec)] / vcount(g)\n",
    "    }\n",
    "\n",
    "    alpha1 = sum(s_1) / vcount(g)\n",
    "    alpha2 = sum(s_2) / vcount(g)\n",
    "    print(alpha1)\n",
    "    print(alpha2)\n",
    "}\n",
    "\n",
    "get_alpha_vals()"
   ]
  },
  {
   "cell_type": "code",
   "execution_count": 6,
   "id": "625cc98f-1ee9-44b0-999d-b2e06c69ffb5",
   "metadata": {},
   "outputs": [],
   "source": [
    "g = read.graph(\"weights_weekly.txt\", format=\"ncol\")\n",
    "sector_names = fread(\"finance_data/Name_sector.csv\", header = TRUE)\n",
    "sectors = unique(sector_names$Sector)\n",
    "colors = rainbow(n = length(sectors))\n",
    "for (i in 1:length(V(g))){\n",
    "  sector_ = sector_names$Sector[which(V(g)[i]$name == sector_names$Symbol)]\n",
    "  V(g)[i]$sector <- sector_\n",
    "  V(g)[i]$color <- colors[which(sector_ == sectors)]\n",
    "}\n",
    "\n",
    "mst_ = mst(g)\n",
    "jpeg(\"Q5.jpg\", width=6.8, height=6.8, units='in',res=300)\n",
    "plot(mst_, vertex.size=4.5, vertex.label=NA, main=\"MST for Weekly Data\")"
   ]
  },
  {
   "cell_type": "code",
   "execution_count": 7,
   "id": "694b4732-3ebf-4be3-97be-3af6c0ae5e75",
   "metadata": {},
   "outputs": [
    {
     "name": "stdout",
     "output_type": "stream",
     "text": [
      "[1] 0.7429696\n",
      "[1] 0.1141881\n"
     ]
    }
   ],
   "source": [
    "get_alpha_vals()"
   ]
  }
 ],
 "metadata": {
  "kernelspec": {
   "display_name": "R",
   "language": "R",
   "name": "ir"
  },
  "language_info": {
   "codemirror_mode": "r",
   "file_extension": ".r",
   "mimetype": "text/x-r-source",
   "name": "R",
   "pygments_lexer": "r",
   "version": "4.1.0"
  }
 },
 "nbformat": 4,
 "nbformat_minor": 5
}
